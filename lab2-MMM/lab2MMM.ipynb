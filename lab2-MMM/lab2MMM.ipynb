{
 "cells": [
  {
   "cell_type": "code",
   "execution_count": 1,
   "id": "3b3672c7",
   "metadata": {},
   "outputs": [
    {
     "name": "stdout",
     "output_type": "stream",
     "text": [
      "-3 -2\n",
      "1 2\n"
     ]
    }
   ],
   "source": [
    "def F(x):\n",
    "    return 3*x**4 + 4*x**3 - 12*x**2 - 5\n",
    "d = 0.0001\n",
    "for i in range(-10, 10):\n",
    "    if F(i) * F(i+1) < 0:\n",
    "        print(i, i+1)"
   ]
  },
  {
   "cell_type": "code",
   "execution_count": 2,
   "id": "e74a5091",
   "metadata": {},
   "outputs": [
    {
     "name": "stdout",
     "output_type": "stream",
     "text": [
      "-2.8238525390625 -5.809015559066211e-05 12\n"
     ]
    }
   ],
   "source": [
    "a = -3\n",
    "b = -2\n",
    "count = 0\n",
    "c = (a + b) / 2\n",
    "while(abs(F(c)) > d):\n",
    "    if F(c) * F(a) > 0:\n",
    "        a = c\n",
    "    else:\n",
    "        b = c\n",
    "    c = (a + b) / 2\n",
    "    count += 1\n",
    "print(c, F(c), count)"
   ]
  },
  {
   "cell_type": "code",
   "execution_count": 4,
   "id": "a5cfaffb",
   "metadata": {},
   "outputs": [
    {
     "name": "stdout",
     "output_type": "stream",
     "text": [
      "-2.82385306959458 -1.4550465152751713e-06 0\n"
     ]
    }
   ],
   "source": [
    "def z(a, b):\n",
    "    k = (F(b) - F(a)) / (b - a)\n",
    "    b = F(a) - k * a\n",
    "    return -b / k\n",
    "\n",
    "c = z(a, b)\n",
    "count = 0\n",
    "while(abs(F(c)) > d):\n",
    "    if F(c) * F(a) > 0:\n",
    "        a = c\n",
    "    else:\n",
    "        b = c\n",
    "    c = z(a, b)\n",
    "    count += 1\n",
    "    \n",
    "print(c, F(c), count)"
   ]
  },
  {
   "cell_type": "code",
   "execution_count": null,
   "id": "f281ba77",
   "metadata": {},
   "outputs": [],
   "source": []
  }
 ],
 "metadata": {
  "kernelspec": {
   "display_name": "Python 3 (ipykernel)",
   "language": "python",
   "name": "python3"
  },
  "language_info": {
   "codemirror_mode": {
    "name": "ipython",
    "version": 3
   },
   "file_extension": ".py",
   "mimetype": "text/x-python",
   "name": "python",
   "nbconvert_exporter": "python",
   "pygments_lexer": "ipython3",
   "version": "3.11.5"
  }
 },
 "nbformat": 4,
 "nbformat_minor": 5
}
